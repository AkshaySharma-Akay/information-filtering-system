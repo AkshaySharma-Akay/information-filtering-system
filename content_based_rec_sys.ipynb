{
 "cells": [
  {
   "cell_type": "code",
   "execution_count": 11,
   "metadata": {},
   "outputs": [],
   "source": [
    "%matplotlib inline\n",
    "import pandas as pd\n",
    "import numpy as np\n",
    "import matplotlib.pyplot as plt\n",
    "import seaborn as sns\n",
    "from scipy import stats\n",
    "from ast import literal_eval\n",
    "from sklearn.feature_extraction.text import TfidfVectorizer, CountVectorizer\n",
    "from sklearn.metrics.pairwise import linear_kernel, cosine_similarity\n",
    "from nltk.stem.snowball import SnowballStemmer\n",
    "from nltk.stem.wordnet import WordNetLemmatizer\n",
    "from nltk.corpus import wordnet\n",
    "from surprise import Reader, Dataset, SVD, evaluate\n",
    "\n",
    "import warnings; warnings.simplefilter('ignore')"
   ]
  },
  {
   "cell_type": "markdown",
   "metadata": {},
   "source": [
    "## Reading the movies details form dataset (using pandas)"
   ]
  },
  {
   "cell_type": "code",
   "execution_count": 12,
   "metadata": {},
   "outputs": [],
   "source": [
    "md = pd.read_csv('input_small/movies.csv')"
   ]
  },
  {
   "cell_type": "code",
   "execution_count": 13,
   "metadata": {},
   "outputs": [
    {
     "data": {
      "text/html": [
       "<div>\n",
       "<style scoped>\n",
       "    .dataframe tbody tr th:only-of-type {\n",
       "        vertical-align: middle;\n",
       "    }\n",
       "\n",
       "    .dataframe tbody tr th {\n",
       "        vertical-align: top;\n",
       "    }\n",
       "\n",
       "    .dataframe thead th {\n",
       "        text-align: right;\n",
       "    }\n",
       "</style>\n",
       "<table border=\"1\" class=\"dataframe\">\n",
       "  <thead>\n",
       "    <tr style=\"text-align: right;\">\n",
       "      <th></th>\n",
       "      <th>movieId</th>\n",
       "      <th>title</th>\n",
       "      <th>genres</th>\n",
       "    </tr>\n",
       "  </thead>\n",
       "  <tbody>\n",
       "    <tr>\n",
       "      <th>0</th>\n",
       "      <td>1</td>\n",
       "      <td>Toy Story (1995)</td>\n",
       "      <td>Adventure|Animation|Children|Comedy|Fantasy</td>\n",
       "    </tr>\n",
       "    <tr>\n",
       "      <th>1</th>\n",
       "      <td>2</td>\n",
       "      <td>Jumanji (1995)</td>\n",
       "      <td>Adventure|Children|Fantasy</td>\n",
       "    </tr>\n",
       "    <tr>\n",
       "      <th>2</th>\n",
       "      <td>3</td>\n",
       "      <td>Grumpier Old Men (1995)</td>\n",
       "      <td>Comedy|Romance</td>\n",
       "    </tr>\n",
       "    <tr>\n",
       "      <th>3</th>\n",
       "      <td>4</td>\n",
       "      <td>Waiting to Exhale (1995)</td>\n",
       "      <td>Comedy|Drama|Romance</td>\n",
       "    </tr>\n",
       "    <tr>\n",
       "      <th>4</th>\n",
       "      <td>5</td>\n",
       "      <td>Father of the Bride Part II (1995)</td>\n",
       "      <td>Comedy</td>\n",
       "    </tr>\n",
       "  </tbody>\n",
       "</table>\n",
       "</div>"
      ],
      "text/plain": [
       "   movieId                               title  \\\n",
       "0        1                    Toy Story (1995)   \n",
       "1        2                      Jumanji (1995)   \n",
       "2        3             Grumpier Old Men (1995)   \n",
       "3        4            Waiting to Exhale (1995)   \n",
       "4        5  Father of the Bride Part II (1995)   \n",
       "\n",
       "                                        genres  \n",
       "0  Adventure|Animation|Children|Comedy|Fantasy  \n",
       "1                   Adventure|Children|Fantasy  \n",
       "2                               Comedy|Romance  \n",
       "3                         Comedy|Drama|Romance  \n",
       "4                                       Comedy  "
      ]
     },
     "execution_count": 13,
     "metadata": {},
     "output_type": "execute_result"
    }
   ],
   "source": [
    "md.head() #try md.head(20) for first 20 movies"
   ]
  },
  {
   "cell_type": "code",
   "execution_count": 14,
   "metadata": {},
   "outputs": [],
   "source": [
    "from sklearn.feature_extraction.text import TfidfVectorizer\n",
    "tf = TfidfVectorizer(analyzer='word',ngram_range=(1, 2),min_df=0, stop_words='english')\n",
    "tfidf_matrix = tf.fit_transform(md['genres'])"
   ]
  },
  {
   "cell_type": "code",
   "execution_count": 15,
   "metadata": {},
   "outputs": [],
   "source": [
    "from sklearn.metrics.pairwise import linear_kernel\n",
    "cosine_sim = linear_kernel(tfidf_matrix, tfidf_matrix)"
   ]
  },
  {
   "cell_type": "code",
   "execution_count": 16,
   "metadata": {},
   "outputs": [],
   "source": [
    "# Build a 1-dimensional array with movie titles\n",
    "titles = md['title']\n",
    "indices = pd.Series(md.index, index=md['title'])\n",
    "\n",
    "# Function that get movie recommendations based on the cosine similarity score of movie genres\n",
    "def genre_recommendations(title):\n",
    "    idx = indices[title]\n",
    "    sim_scores = list(enumerate(cosine_sim[idx]))\n",
    "    sim_scores = sorted(sim_scores, key=lambda x: x[1], reverse=True)\n",
    "    sim_scores = sim_scores[1:21]\n",
    "    md_indices = [i[0] for i in sim_scores]\n",
    "    return titles.iloc[md_indices]"
   ]
  },
  {
   "cell_type": "code",
   "execution_count": 17,
   "metadata": {},
   "outputs": [
    {
     "data": {
      "text/plain": [
       "24                            Leaving Las Vegas (1995)\n",
       "27                                   Persuasion (1995)\n",
       "42                How to Make an American Quilt (1995)\n",
       "45                        When Night Is Falling (1995)\n",
       "66                                 Bed of Roses (1996)\n",
       "75     Once Upon a Time... When We Were Colored (1995)\n",
       "76                           Angels and Insects (1995)\n",
       "93               Bridges of Madison County, The (1995)\n",
       "115                       Up Close and Personal (1996)\n",
       "151                                    Mad Love (1995)\n",
       "162                         Scarlet Letter, The (1995)\n",
       "170                               Total Eclipse (1995)\n",
       "175                       Walk in the Clouds, A (1995)\n",
       "183                              Before Sunrise (1995)\n",
       "189                           Circle of Friends (1995)\n",
       "213                            Immortal Beloved (1994)\n",
       "232                                 Love Affair (1994)\n",
       "261                  Picture Bride (Bijo photo) (1994)\n",
       "262             Queen Margot (Reine Margot, La) (1994)\n",
       "338                    When a Man Loves a Woman (1994)\n",
       "Name: title, dtype: object"
      ]
     },
     "execution_count": 17,
     "metadata": {},
     "output_type": "execute_result"
    }
   ],
   "source": [
    "genre_recommendations('Good Will Hunting (1997)').head(20)"
   ]
  },
  {
   "cell_type": "code",
   "execution_count": 18,
   "metadata": {},
   "outputs": [
    {
     "data": {
      "text/plain": [
       "7355                                   Toy Story 3 (2010)\n",
       "7360    Shrek Forever After (a.k.a. Shrek: The Final C...\n",
       "5376                            Polar Express, The (2004)\n",
       "7302                      How to Train Your Dragon (2010)\n",
       "8039                         Rise of the Guardians (2012)\n",
       "0                                        Toy Story (1995)\n",
       "1706                                          Antz (1998)\n",
       "2355                                   Toy Story 2 (1999)\n",
       "2809       Adventures of Rocky and Bullwinkle, The (2000)\n",
       "3000                     Emperor's New Groove, The (2000)\n",
       "3568                                Monsters, Inc. (2001)\n",
       "6194                                     Wild, The (2006)\n",
       "6486                               Shrek the Third (2007)\n",
       "6948                       Tale of Despereaux, The (2008)\n",
       "7760    Asterix and the Vikings (Astérix et les Viking...\n",
       "8219                                         Turbo (2013)\n",
       "8927                             The Good Dinosaur (2015)\n",
       "9430                                         Moana (2016)\n",
       "7733                                 Puss in Boots (2011)\n",
       "5735             Charlie and the Chocolate Factory (2005)\n",
       "Name: title, dtype: object"
      ]
     },
     "execution_count": 18,
     "metadata": {},
     "output_type": "execute_result"
    }
   ],
   "source": [
    "genre_recommendations('Toy Story 3 (2010)').head(20)"
   ]
  },
  {
   "cell_type": "code",
   "execution_count": 27,
   "metadata": {},
   "outputs": [
    {
     "data": {
      "text/plain": [
       "224             Star Wars: Episode IV - A New Hope (1977)\n",
       "275                                       Stargate (1994)\n",
       "385                                 Demolition Man (1993)\n",
       "898     Star Wars: Episode V - The Empire Strikes Back...\n",
       "911     Star Wars: Episode VI - Return of the Jedi (1983)\n",
       "1058           Star Trek III: The Search for Spock (1984)\n",
       "1346                                 Lost in Space (1998)\n",
       "1557                                Rocketeer, The (1991)\n",
       "1567                                          Tron (1982)\n",
       "1692                            Six-String Samurai (1998)\n",
       "1904                                   Logan's Run (1976)\n",
       "1979     Star Wars: Episode I - The Phantom Menace (1999)\n",
       "1986                                      Superman (1978)\n",
       "1988                                  Superman III (1983)\n",
       "1989              Superman IV: The Quest for Peace (1987)\n",
       "2764                                       Mad Max (1979)\n",
       "2766                    Mad Max Beyond Thunderdome (1985)\n",
       "2836                                         X-Men (2000)\n",
       "2889       Godzilla 2000 (Gojira ni-sen mireniamu) (1999)\n",
       "2953                             Time Machine, The (1960)\n",
       "Name: title, dtype: object"
      ]
     },
     "execution_count": 27,
     "metadata": {},
     "output_type": "execute_result"
    }
   ],
   "source": [
    "genre_recommendations('Iron Man (2008)').head(30)"
   ]
  },
  {
   "cell_type": "code",
   "execution_count": 26,
   "metadata": {},
   "outputs": [
    {
     "data": {
      "text/plain": [
       "6521                          Transformers (2007)\n",
       "7545                      I Am Number Four (2011)\n",
       "7866                            Battleship (2012)\n",
       "8151                            Iron Man 3 (2013)\n",
       "8238                               Riddick (2013)\n",
       "7687                             Contagion (2011)\n",
       "6918        Day the Earth Stood Still, The (2008)\n",
       "4351                  Matrix Reloaded, The (2003)\n",
       "4639               Matrix Revolutions, The (2003)\n",
       "6470                          Spider-Man 3 (2007)\n",
       "7324                            Iron Man 2 (2010)\n",
       "8120                 G.I. Joe: Retaliation (2013)\n",
       "59      Lawnmower Man 2: Beyond Cyberspace (1996)\n",
       "68                               Screamers (1995)\n",
       "144                        Johnny Mnemonic (1995)\n",
       "296                             Virtuosity (1995)\n",
       "336                                Timecop (1994)\n",
       "474                           Blade Runner (1982)\n",
       "567                                   Solo (1996)\n",
       "601                           Arrival, The (1996)\n",
       "Name: title, dtype: object"
      ]
     },
     "execution_count": 26,
     "metadata": {},
     "output_type": "execute_result"
    }
   ],
   "source": [
    "genre_recommendations('Iron Man 3 (2013)').head(30)"
   ]
  },
  {
   "cell_type": "code",
   "execution_count": null,
   "metadata": {},
   "outputs": [],
   "source": []
  }
 ],
 "metadata": {
  "kernelspec": {
   "display_name": "Python 3",
   "language": "python",
   "name": "python3"
  },
  "language_info": {
   "codemirror_mode": {
    "name": "ipython",
    "version": 3
   },
   "file_extension": ".py",
   "mimetype": "text/x-python",
   "name": "python",
   "nbconvert_exporter": "python",
   "pygments_lexer": "ipython3",
   "version": "3.6.5"
  }
 },
 "nbformat": 4,
 "nbformat_minor": 2
}
